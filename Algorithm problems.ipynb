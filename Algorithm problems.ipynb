{
 "cells": [
  {
   "cell_type": "raw",
   "id": "91cea79c",
   "metadata": {},
   "source": [
    "Задача 1 - Списък от всички делители на едно число.\n",
    "Ако имаме едно цяло число n, то всички делети на това число са тези числа между 1 и n - 1, които се делят на n без остатък.\n",
    "\n",
    "Например, ако n = 6, то всички делители са:\n",
    "\n",
    "1, защото 6 % 1 == 0\n",
    "2, защото 6 % 2 == 0\n",
    "3, защото 6 % 3 == 0\n",
    "Във файл divisors.py, напишете програма, която:\n",
    "\n",
    "Чете едно цяло число n\n",
    "Изкарва списък от всички делители на n, без самото n."
   ]
  },
  {
   "cell_type": "code",
   "execution_count": 4,
   "id": "48870dbd",
   "metadata": {},
   "outputs": [
    {
     "name": "stdout",
     "output_type": "stream",
     "text": [
      "Enter a number: 10\n",
      "Divisors are: \n",
      "[1, 2, 5]\n"
     ]
    }
   ],
   "source": [
    "n = input('Enter a number: ')\n",
    "n = int(n)\n",
    "divisors = []\n",
    "start = 1\n",
    "end = n - 1\n",
    "\n",
    "while start <= end:\n",
    "    if n % start == 0:\n",
    "        divisors += [start]\n",
    "    start += 1\n",
    "print(\"Divisors are: \")\n",
    "print(divisors)"
   ]
  },
  {
   "cell_type": "raw",
   "id": "782367c4",
   "metadata": {},
   "source": [
    "Задача 2 - Сумата на всички делитети на едно число\n",
    "Във файл sum_divisors.py, напишете програма, която:\n",
    "\n",
    "Чете едно число n\n",
    "Изкарва сумата на всички негови делители, без n.\n",
    "Например, ако n = 6, сумата на делитете е 1 + 2 + 3 = 6"
   ]
  },
  {
   "cell_type": "code",
   "execution_count": 11,
   "id": "acfa9967",
   "metadata": {},
   "outputs": [
    {
     "name": "stdout",
     "output_type": "stream",
     "text": [
      "Enter a number: 6\n",
      "6\n"
     ]
    }
   ],
   "source": [
    "# sum divisors \n",
    "\n",
    "n = input('Enter a number: ')\n",
    "n= int(n)\n",
    "divisors = []\n",
    "start = 1 \n",
    "end = n - 1 \n",
    "\n",
    "while start <= end:\n",
    "    if n % start == 0:\n",
    "        divisors += [start]\n",
    "    start += 1 \n",
    "sum = 0    \n",
    "\n",
    "for i in divisors:\n",
    "    sum += i\n",
    "print(sum)\n",
    "    \n",
    "    \n"
   ]
  },
  {
   "cell_type": "markdown",
   "id": "7f3a71ce",
   "metadata": {},
   "source": [
    "Задача 4 - Първите n на брой перфектни числа.\n",
    "Това е трудна задача!\n",
    "\n",
    "Във файл first_n_perfect.py, напишете програма, която:\n",
    "\n",
    "Чете едно цяло число n\n",
    "На екрана изкарва първите n на брой перфектни числа.\n",
    "Например, ако n = 3, то първите 3 перфектни числа са:\n",
    "\n",
    "6\n",
    "28\n",
    "496\n",
    "Ако n = 6, това са:\n",
    "\n",
    "6\n",
    "28\n",
    "496\n",
    "8128\n",
    "33550336\n",
    "8589869056\n",
    "Ако искате да видите списък с перфектните числа, може да го намерите тук"
   ]
  },
  {
   "cell_type": "code",
   "execution_count": 181,
   "id": "41d8953e",
   "metadata": {},
   "outputs": [
    {
     "name": "stdout",
     "output_type": "stream",
     "text": [
      "Enter a number: 12\n",
      "286\n"
     ]
    },
    {
     "ename": "NameError",
     "evalue": "name 'perfect_num' is not defined",
     "output_type": "error",
     "traceback": [
      "\u001b[1;31m---------------------------------------------------------------------------\u001b[0m",
      "\u001b[1;31mNameError\u001b[0m                                 Traceback (most recent call last)",
      "\u001b[1;32m<ipython-input-181-97d3519de825>\u001b[0m in \u001b[0;36m<module>\u001b[1;34m\u001b[0m\n\u001b[0;32m     16\u001b[0m             \u001b[0mperfect_num\u001b[0m \u001b[1;33m=\u001b[0m \u001b[1;36m2\u001b[0m \u001b[1;33m**\u001b[0m \u001b[0mn\u001b[0m \u001b[1;33m-\u001b[0m \u001b[1;36m1\u001b[0m\u001b[1;33m\u001b[0m\u001b[1;33m\u001b[0m\u001b[0m\n\u001b[0;32m     17\u001b[0m \u001b[0mprint\u001b[0m\u001b[1;33m(\u001b[0m\u001b[0msum_of_nums_of_n\u001b[0m\u001b[1;33m)\u001b[0m\u001b[1;33m\u001b[0m\u001b[1;33m\u001b[0m\u001b[0m\n\u001b[1;32m---> 18\u001b[1;33m \u001b[0mprint\u001b[0m\u001b[1;33m(\u001b[0m\u001b[0mperfect_num\u001b[0m\u001b[1;33m)\u001b[0m\u001b[1;33m\u001b[0m\u001b[1;33m\u001b[0m\u001b[0m\n\u001b[0m",
      "\u001b[1;31mNameError\u001b[0m: name 'perfect_num' is not defined"
     ]
    }
   ],
   "source": [
    "# first n perfect \n",
    "# NOT DONE\n",
    "\n",
    "n = input('Enter a number: ')\n",
    "n = int(n)\n",
    "nums_of_n = []\n",
    "sum_of_nums_of_n = 0\n",
    "start = 1\n",
    "end = n - 1\n",
    "\n",
    "while start <= end:\n",
    "    nums_of_n += [start]\n",
    "    start += 1\n",
    "    for number in nums_of_n:\n",
    "        sum_of_nums_of_n += number\n",
    "        if sum_of_nums_of_n == n:\n",
    "            perfect_num = 2 ** n - 1\n",
    "print(sum_of_nums_of_n)  \n",
    "print(perfect_num)"
   ]
  },
  {
   "cell_type": "markdown",
   "id": "4cdca871",
   "metadata": {},
   "source": [
    "Задача 5 - Има ли проста цифра в число?\n",
    "Във файл prime_digit.py, напишете програма, която:\n",
    "\n",
    "Чете едно цяло число n\n",
    "\n",
    "Изкарва на екрана Да или Не ако в числото, има поне 1 цифра, което да е просто число.\n",
    "\n",
    "Например, за числото 99448, няма нито 1 цифра, която да е просто число.\n",
    "\n",
    "В числото 123, цифрата 3 е просто число."
   ]
  },
  {
   "cell_type": "code",
   "execution_count": 169,
   "id": "dcfd0950",
   "metadata": {},
   "outputs": [
    {
     "name": "stdout",
     "output_type": "stream",
     "text": [
      "Enter a number: 123\n",
      "---- loop ----\n",
      "3\n",
      "3 is a prime number\n"
     ]
    }
   ],
   "source": [
    "'''\n",
    "n = input('Enter a number: ')\n",
    "\n",
    "flag = False\n",
    "for number in n:\n",
    "    number = int(number)\n",
    "    \n",
    "    if number >1:\n",
    "        for i in range(2, number):\n",
    "            if (number % i) == 0:\n",
    "                flag = True\n",
    "                break\n",
    "if flag:\n",
    "    print(number, \"is not a prime number\")\n",
    "else:\n",
    "    print(number, \"is a prime number\")\n",
    "print(flag)\n",
    "'''\n",
    "\n",
    "\n",
    "\n",
    "prime_numbers = [3, 5, 7]\n",
    "n = input('Enter a number: ')\n",
    "n = int(n)\n",
    "flag = False\n",
    "\n",
    "while n != 0:\n",
    "    digit = n % 10\n",
    "    print('---- loop ----')\n",
    "    print(digit)\n",
    "    n = n // 10\n",
    "    if digit in prime_numbers:\n",
    "        print(digit, 'is a prime number')\n",
    "        flag = True \n",
    "        break \n",
    "        \n",
    "    else:\n",
    "        print('no prime numbers found')\n",
    "\n"
   ]
  },
  {
   "cell_type": "raw",
   "id": "cacb9fcb",
   "metadata": {},
   "source": [
    "Задача 6 - Прости близнаци\n",
    "Два цели прости числа p, и q се наричат близнаци, ако е изпълнено p = q + 2\n",
    "\n",
    "Например:\n",
    "\n",
    "3 и 5 са прости числа близнаци.\n",
    "5 и 7 са прости близнаци.\n",
    "Във файл twin_prime.py, напишете програма, която:\n",
    "\n",
    "Чете едно цяло число p\n",
    "Изкарва на екрана неговото просто число близнак, ако има такова. Може да има повече от 1 просто число близнак.\n",
    "Ако числото p не е просто или пък няма прост близнак, програмата казва, че няма близнак.\n",
    "Например:\n",
    "\n",
    "Enter p: 5\n",
    "Twin primes with 5:\n",
    "3, 5\n",
    "5, 7\n",
    "Enter p: 8\n",
    "8 is not a prime.\n",
    "Enter p: 23\n",
    "23 is prime but:\n",
    "21 is not\n",
    "25 is not"
   ]
  },
  {
   "cell_type": "code",
   "execution_count": 180,
   "id": "ea2c6308",
   "metadata": {},
   "outputs": [
    {
     "name": "stdout",
     "output_type": "stream",
     "text": [
      "Enter a whole number: 23\n",
      "23 is a prime number\n",
      "23 is a prime number but 25 and 21 are not\n"
     ]
    }
   ],
   "source": [
    "# first try \n",
    "''' \n",
    "p = input('Enter number p: ')\n",
    "p = int(p)\n",
    "q = p + 2 \n",
    "z = p - 2\n",
    "flag = False\n",
    "\n",
    "if p > 1:\n",
    "        for i in range(2, p):\n",
    "            if (p % i) == 0:\n",
    "                flag = True\n",
    "                break\n",
    "if not flag:\n",
    "    \n",
    "    if q % 2 != 0:\n",
    "        print(q, 'is a prime number')\n",
    "    \n",
    "        if z % 2 != 0:\n",
    "            print(z, 'is also a prime number')\n",
    "        else: \n",
    "            print('but', z ,'is not a prime number')\n",
    "             \n",
    "    else:\n",
    "        print(p, 'is not a prime')\n",
    "        \n",
    "'''\n",
    "#--------------------------------------------------------------------------------------------------#\n",
    "# try 2 (successful)\n",
    "p = input('Enter a whole number: ')\n",
    "p = int(p)\n",
    "prime_numbers = [2, 3, 5, 7, 11, 13, 17, 19, 23, 29, 31\n",
    "                 , 37, 41, 43, 47, 53, 59, 61, 67, 71, 73, 79, 83, 89, 97 ]\n",
    "q = p + 2 \n",
    "z = p - 2 \n",
    "flag = False\n",
    "\n",
    "if p != 0:\n",
    "    if p in prime_numbers:\n",
    "        print(p,'is a prime number')\n",
    "        if q in prime_numbers:\n",
    "            print(q, 'is also a prime number')\n",
    "            if z in prime_numbers:\n",
    "                print(z, 'is a prime number')\n",
    "        elif z in prime_numbers:\n",
    "            print(z, 'is a prime number but', q, 'is not')\n",
    "        else:\n",
    "            print(p, 'is a prime number but', q, 'and', z, 'are not')\n",
    "    else:\n",
    "        print ('no prime numbers found')\n",
    "    "
   ]
  },
  {
   "cell_type": "markdown",
   "id": "55c97fd2",
   "metadata": {},
   "source": [
    "# 3 допълнителни задачи за края на седмицата"
   ]
  },
  {
   "cell_type": "raw",
   "id": "93217c29",
   "metadata": {},
   "source": [
    "Задача 1 - Не оставяйте нерешена задача от предните упражнения.\n",
    "Решете и пререшете всички задачи от седмица 1 и 2. Използвайте всички налични до момента знания\n",
    "\n",
    "Задачи от седмица 1\n",
    "Задачи от седмица 2\n",
    "Важно - 10та задача от списъците е махната и няма нужда да я решавате. Тя е по-трудна и изисква знания, които ще придобием в понеделник. Тогава и ще бъде решена"
   ]
  },
  {
   "cell_type": "code",
   "execution_count": 192,
   "id": "0b39c05c",
   "metadata": {},
   "outputs": [
    {
     "name": "stdout",
     "output_type": "stream",
     "text": [
      "enter a whole number: 12345\n",
      "-----loop------\n",
      "5\n",
      "[5]\n",
      "1234\n",
      "-----loop------\n",
      "4\n",
      "[4, 5]\n",
      "123\n",
      "-----loop------\n",
      "3\n",
      "[3, 4, 5]\n",
      "12\n",
      "-----loop------\n",
      "2\n",
      "[2, 3, 4, 5]\n",
      "1\n",
      "-----loop------\n",
      "1\n",
      "[1, 2, 3, 4, 5]\n",
      "0\n",
      "====loop====\n",
      "0\n",
      "1\n",
      "====loop====\n",
      "1\n",
      "12\n",
      "====loop====\n",
      "12\n",
      "123\n",
      "====loop====\n",
      "123\n",
      "1234\n",
      "====loop====\n",
      "1234\n",
      "12345\n"
     ]
    }
   ],
   "source": [
    "n = input('enter a whole number: ')\n",
    "n = int(n)\n",
    "digits = []\n",
    "\n",
    "while n != 0:\n",
    "    print('-----loop------')\n",
    "    digit = n % 10\n",
    "    print(digit)\n",
    "    digits = [digit] + digits\n",
    "    print(digits)\n",
    "    n = n // 10\n",
    "    print(n)\n",
    "\n",
    "n = 0\n",
    "for digit in digits:\n",
    "    print('====loop====')\n",
    "    print(n)\n",
    "    n = n * 10 + digit\n",
    "    print(n)"
   ]
  },
  {
   "cell_type": "code",
   "execution_count": 196,
   "id": "fb28c4e5",
   "metadata": {},
   "outputs": [
    {
     "name": "stdout",
     "output_type": "stream",
     "text": [
      "please enter a string :Aaarrhghh\n",
      "2 lower case vowls in string\n",
      "1 upper case vowls in string\n"
     ]
    }
   ],
   "source": [
    "# count vowls\n",
    "inp = input('please enter a string :')\n",
    "vowls_lower = ['a','e','i','o','u','y']\n",
    "vowls_upper = ['A','E','I','O','U','Y']\n",
    "count_lower = 0\n",
    "count_upper = 0\n",
    "\n",
    "for char in inp:\n",
    "    if char in vowls_lower:\n",
    "        count_lower += 1\n",
    "    elif char in vowls_upper:\n",
    "        count_upper += 1\n",
    "        \n",
    "print(count_lower, 'lower case vowls in string')\n",
    "print(count_upper, 'upper case vowls in string')\n",
    "         \n"
   ]
  },
  {
   "cell_type": "code",
   "execution_count": null,
   "id": "891ed7d4",
   "metadata": {},
   "outputs": [],
   "source": []
  }
 ],
 "metadata": {
  "kernelspec": {
   "display_name": "Python 3",
   "language": "python",
   "name": "python3"
  },
  "language_info": {
   "codemirror_mode": {
    "name": "ipython",
    "version": 3
   },
   "file_extension": ".py",
   "mimetype": "text/x-python",
   "name": "python",
   "nbconvert_exporter": "python",
   "pygments_lexer": "ipython3",
   "version": "3.8.8"
  }
 },
 "nbformat": 4,
 "nbformat_minor": 5
}
