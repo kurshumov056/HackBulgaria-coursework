{
 "cells": [
  {
   "cell_type": "code",
   "execution_count": null,
   "id": "d18e24b9",
   "metadata": {},
   "outputs": [],
   "source": [
    "conda install -c conda-forge jupyterthemes"
   ]
  },
  {
   "cell_type": "code",
   "execution_count": null,
   "id": "a4aca483",
   "metadata": {},
   "outputs": [],
   "source": []
  },
  {
   "cell_type": "code",
   "execution_count": null,
   "id": "c597222d",
   "metadata": {},
   "outputs": [],
   "source": [
    "#factorial \n",
    "\n",
    "def fact(n):\n",
    "    start = 1\n",
    "    end = n-1\n",
    "    \n",
    "    while start <= end:\n",
    "        n = start * n\n",
    "        start += 1\n",
    "    return(n)"
   ]
  },
  {
   "cell_type": "raw",
   "id": "78927dd1",
   "metadata": {},
   "source": [
    "Дали елемент се намира в списък\n",
    "Без да използвате оператора in, напишете функция member(x, xs), която проверява дали елементът x се среща в списъкът xs\n",
    "\n",
    "Функцията връща True или False.\n",
    "Използвайте оператора == за сравнение между елементите.\n",
    "member(1, [1,2,3])\n",
    "True\n",
    "member(\"Python\", [\"Django\", \"Rails\"])\n",
    "False"
   ]
  },
  {
   "cell_type": "code",
   "execution_count": null,
   "id": "08489cf3",
   "metadata": {},
   "outputs": [],
   "source": [
    "# member detection \n",
    "\n",
    "def member(x,xs):\n",
    "    member_status = False\n",
    "    for i in xs:\n",
    "        if i == x:\n",
    "            member_status = True\n",
    "            \n",
    "    return(member_status)\n",
    "            \n",
    "    "
   ]
  },
  {
   "cell_type": "code",
   "execution_count": null,
   "id": "c8547485",
   "metadata": {},
   "outputs": [],
   "source": [
    "def grades_that_pass(students, grades, limit):\n",
    "    result = []\n",
    "    index = 0\n",
    "\n",
    "    for grade in grades:\n",
    "        student = students[index]\n",
    "        \n",
    "        if grade >= limit:\n",
    "            result = result + [student]\n",
    "        \n",
    "        index += 1\n",
    "\n",
    "    return result"
   ]
  },
  {
   "cell_type": "code",
   "execution_count": null,
   "id": "15b9779b",
   "metadata": {},
   "outputs": [],
   "source": [
    "students = [\"Rado\", \"Ivo\", \"Maria\", \"Nina\"]\n",
    "grades = [3, 4.5, 5.5, 6]\n",
    "\n",
    "result = grades_that_pass(students, grades, 4.0)\n",
    "print(result)"
   ]
  },
  {
   "cell_type": "markdown",
   "id": "2255f879",
   "metadata": {},
   "source": [
    "# Пререшаване на задачите досега чрез функции."
   ]
  },
  {
   "cell_type": "code",
   "execution_count": 17,
   "id": "8b5fa33f",
   "metadata": {},
   "outputs": [],
   "source": [
    "# На първа задача направите функция divisors(n), която взима едно цяло число \n",
    "# и връща списък с неговите делители.Решете задачата използвайки тази функция.\n",
    "\n",
    "def divisors(n):\n",
    "    start = 1 \n",
    "    end = n-1\n",
    "    divisors = []\n",
    "    while start < n:\n",
    "        if n % start == 0:   \n",
    "                divisors += [start]\n",
    "        \n",
    "        start += 1 \n",
    "    return(divisors)"
   ]
  },
  {
   "cell_type": "code",
   "execution_count": 18,
   "id": "e08f38bb",
   "metadata": {},
   "outputs": [
    {
     "data": {
      "text/plain": [
       "[1, 2, 3]"
      ]
     },
     "execution_count": 18,
     "metadata": {},
     "output_type": "execute_result"
    }
   ],
   "source": [
    "divisors(6)"
   ]
  },
  {
   "cell_type": "code",
   "execution_count": null,
   "id": "99b99819",
   "metadata": {},
   "outputs": [],
   "source": [
    "# Във втората задача, използвайте функцията divisors от първата,като освен това, \n",
    "# напишете функция sum_ints(numbers), която взима списък с цели числа и връща тяхната сума.\n",
    "\n",
    "def sum_ints(numbers):\n",
    "    total_sum = 0\n",
    "    for number in numbers:\n",
    "        total_sum += number\n",
    "    return(total_sum)"
   ]
  },
  {
   "cell_type": "code",
   "execution_count": null,
   "id": "e7a983b2",
   "metadata": {},
   "outputs": [],
   "source": [
    "sum_ints(divisors(6))"
   ]
  },
  {
   "cell_type": "code",
   "execution_count": null,
   "id": "c7d2e3ad",
   "metadata": {},
   "outputs": [],
   "source": [
    "# В задачата с перфектното число, напишете функция is_perfect(n), \n",
    "# която използва в себе си функцията от предната задача sum_ints(numbers)\n",
    "\n",
    "def is_perfect(n):\n",
    "    start = 1 \n",
    "    end = n-1\n",
    "    divisors = []\n",
    "    \n",
    "    while start < n:\n",
    "        if n % start == 0:   \n",
    "                divisors += [start]\n",
    "        \n",
    "        start += 1 \n",
    "    return(sum_ints(divisors))"
   ]
  },
  {
   "cell_type": "code",
   "execution_count": null,
   "id": "d8fdf06c",
   "metadata": {},
   "outputs": [],
   "source": [
    "def is_prime(n):\n",
    "    if n <= 1:\n",
    "        return False\n",
    "\n",
    "    is_prime = True\n",
    "\n",
    "    start = 2\n",
    "\n",
    "    while start < n:\n",
    "        if n % start == 0:\n",
    "            is_prime = False\n",
    "            break\n",
    "        \n",
    "        start += 1\n",
    "    \n",
    "    return is_prime\n",
    "\n",
    "\n",
    "def to_digits(n):\n",
    "    result = []\n",
    "    \n",
    "    while n != 0:\n",
    "        digit = n % 10\n",
    "        \n",
    "        result = [digit] + result\n",
    "\n",
    "        n = n // 10\n",
    "\n",
    "    return result\n",
    "\n",
    "\n",
    "n = input(\"Enter n: \")\n",
    "n = int(n)\n",
    "\n",
    "digits = to_digits(n)\n",
    "\n",
    "prime_digit = False\n",
    "\n",
    "for digit in digits:\n",
    "    if is_prime(digit):\n",
    "        prime_digit = True\n",
    "        break\n",
    "\n",
    "if prime_digit:\n",
    "    print(\"There are prime digits!\")\n",
    "else:\n",
    "    print(\"There are no prime digits!\")"
   ]
  },
  {
   "cell_type": "code",
   "execution_count": 7,
   "id": "6dc86e0d",
   "metadata": {},
   "outputs": [],
   "source": [
    "def to_digits(n):\n",
    "\n",
    "    result = []\n",
    "    while n != 0:\n",
    "        digit = n % 10   \n",
    "        result = [digit] + result\n",
    "        n = n // 10\n",
    "    return(result)\n",
    "\n",
    "def to_number(digits):\n",
    "    result = 0\n",
    "\n",
    "    for digit in digits:\n",
    "        result = result * 10 + digit\n",
    "\n",
    "    return(result)"
   ]
  },
  {
   "cell_type": "code",
   "execution_count": 10,
   "id": "6577f865",
   "metadata": {},
   "outputs": [
    {
     "data": {
      "text/plain": [
       "123456"
      ]
     },
     "execution_count": 10,
     "metadata": {},
     "output_type": "execute_result"
    }
   ],
   "source": [
    "to_number(to_digits(123456))"
   ]
  },
  {
   "cell_type": "code",
   "execution_count": null,
   "id": "751af72e",
   "metadata": {},
   "outputs": [],
   "source": [
    "Хеш таблица от 2 списъка\n",
    "Във файл hash_them.py, напишете функция: hash_them(keys, values), която:\n",
    "\n",
    "Взима два списъка keys и values, които може да не са с равна дължина\n",
    "Връща хеш таблица (речник), където за всеки елемент key от keys, който се намира на индекс i, има стойност values[i]\n",
    "За всeки key, за който нямаме съответстващо value, сложете None за стойност. Например:"
   ]
  },
  {
   "cell_type": "code",
   "execution_count": null,
   "id": "992b2993",
   "metadata": {},
   "outputs": [],
   "source": []
  },
  {
   "cell_type": "code",
   "execution_count": 27,
   "id": "43cdf098",
   "metadata": {},
   "outputs": [],
   "source": [
    "keys = [\"Ivan\", \"Maria\"]\n",
    "values = [1,2]\n",
    "\n",
    "def hash_them(keys, values):\n",
    "    dct = {}\n",
    "    i = 0\n",
    "    for key in keys:\n",
    "        dct[key] = values[i]\n",
    "        i += 1\n",
    "        if ?\n",
    "    return(dct)"
   ]
  },
  {
   "cell_type": "code",
   "execution_count": 28,
   "id": "d0bfbe79",
   "metadata": {},
   "outputs": [
    {
     "ename": "TypeError",
     "evalue": "list indices must be integers or slices, not str",
     "output_type": "error",
     "traceback": [
      "\u001b[1;31m---------------------------------------------------------------------------\u001b[0m",
      "\u001b[1;31mTypeError\u001b[0m                                 Traceback (most recent call last)",
      "\u001b[1;32m<ipython-input-28-7e0a72e6e408>\u001b[0m in \u001b[0;36m<module>\u001b[1;34m\u001b[0m\n\u001b[1;32m----> 1\u001b[1;33m \u001b[0mhash_them\u001b[0m\u001b[1;33m(\u001b[0m\u001b[0mkeys\u001b[0m\u001b[1;33m,\u001b[0m\u001b[0mvalues\u001b[0m\u001b[1;33m)\u001b[0m\u001b[1;33m\u001b[0m\u001b[1;33m\u001b[0m\u001b[0m\n\u001b[0m",
      "\u001b[1;32m<ipython-input-27-e61b654d3b58>\u001b[0m in \u001b[0;36mhash_them\u001b[1;34m(keys, values)\u001b[0m\n\u001b[0;32m      5\u001b[0m     \u001b[0mdct\u001b[0m \u001b[1;33m=\u001b[0m \u001b[1;33m{\u001b[0m\u001b[1;33m}\u001b[0m\u001b[1;33m\u001b[0m\u001b[1;33m\u001b[0m\u001b[0m\n\u001b[0;32m      6\u001b[0m     \u001b[1;32mfor\u001b[0m \u001b[0mkey\u001b[0m \u001b[1;32min\u001b[0m \u001b[0mkeys\u001b[0m\u001b[1;33m:\u001b[0m\u001b[1;33m\u001b[0m\u001b[1;33m\u001b[0m\u001b[0m\n\u001b[1;32m----> 7\u001b[1;33m         \u001b[0mdct\u001b[0m\u001b[1;33m[\u001b[0m\u001b[1;34m'key'\u001b[0m\u001b[1;33m]\u001b[0m \u001b[1;33m=\u001b[0m \u001b[0mvalues\u001b[0m\u001b[1;33m[\u001b[0m\u001b[1;34m'key'\u001b[0m\u001b[1;33m]\u001b[0m\u001b[1;33m\u001b[0m\u001b[1;33m\u001b[0m\u001b[0m\n\u001b[0m\u001b[0;32m      8\u001b[0m     \u001b[1;32mreturn\u001b[0m\u001b[1;33m(\u001b[0m\u001b[0mdct\u001b[0m\u001b[1;33m)\u001b[0m\u001b[1;33m\u001b[0m\u001b[1;33m\u001b[0m\u001b[0m\n",
      "\u001b[1;31mTypeError\u001b[0m: list indices must be integers or slices, not str"
     ]
    }
   ],
   "source": [
    "hash_them(keys,values)"
   ]
  },
  {
   "cell_type": "code",
   "execution_count": null,
   "id": "35c64d05",
   "metadata": {},
   "outputs": [],
   "source": []
  },
  {
   "cell_type": "code",
   "execution_count": null,
   "id": "06e2e13b",
   "metadata": {},
   "outputs": [],
   "source": []
  },
  {
   "cell_type": "code",
   "execution_count": null,
   "id": "75393cc5",
   "metadata": {},
   "outputs": [],
   "source": []
  }
 ],
 "metadata": {
  "kernelspec": {
   "display_name": "Python 3",
   "language": "python",
   "name": "python3"
  },
  "language_info": {
   "codemirror_mode": {
    "name": "ipython",
    "version": 3
   },
   "file_extension": ".py",
   "mimetype": "text/x-python",
   "name": "python",
   "nbconvert_exporter": "python",
   "pygments_lexer": "ipython3",
   "version": "3.8.8"
  }
 },
 "nbformat": 4,
 "nbformat_minor": 5
}
